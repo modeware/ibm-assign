{
 "cells": [
  {
   "cell_type": "markdown",
   "metadata": {},
   "source": [
    "# Predicting the scope of opening food lounge in Jaipur (Rajasthan,India)  "
   ]
  },
  {
   "cell_type": "markdown",
   "metadata": {},
   "source": [
    "## Introduction"
   ]
  },
  {
   "cell_type": "markdown",
   "metadata": {},
   "source": [
    "We have all seen how profitable is the food industry and at some point of time wondered about opening one. There are several examples of sport persons and celebrities who have invested in restaurant, cafes, bakeries and whatever you name them. Any way, they have lots of money to invest and spend lot in hiring professional cooks and bakers. Also, there are plenty of common people who are in the business from decades and some are running family businesses i.e. their forefathers too were in the food business. How can someone enter and stabilize their business in the same field if they are new comers? This report explains.    "
   ]
  },
  {
   "cell_type": "markdown",
   "metadata": {},
   "source": [
    "### The Problem "
   ]
  },
  {
   "cell_type": "markdown",
   "metadata": {},
   "source": [
    "As mentioned in the introduction section, the main issue focussed here is for the new comer, who has to keep many things in mind to give his/her restaurant business a start. One major issue is the location i.e. where should he/she invest. Jaipur is a growing city and is one of the most famous food destinations in India. There are several restaurants, cafes, bakeries and street food vendors who are in competition with each other and yet they all profit from what they offer. Otherwise, they would have been shut the next day obviously. "
   ]
  },
  {
   "cell_type": "markdown",
   "metadata": {},
   "source": []
  }
 ],
 "metadata": {
  "kernelspec": {
   "display_name": "Python",
   "language": "python",
   "name": "conda-env-python-py"
  },
  "language_info": {
   "codemirror_mode": {
    "name": "ipython",
    "version": 3
   },
   "file_extension": ".py",
   "mimetype": "text/x-python",
   "name": "python",
   "nbconvert_exporter": "python",
   "pygments_lexer": "ipython3",
   "version": "3.6.7"
  }
 },
 "nbformat": 4,
 "nbformat_minor": 4
}
